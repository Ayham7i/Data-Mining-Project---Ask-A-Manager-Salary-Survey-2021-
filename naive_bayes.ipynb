{
 "cells": [
  {
   "cell_type": "markdown",
   "id": "f656241e-ee1a-4ed7-9fa3-d101c70cd8b3",
   "metadata": {},
   "source": [
    "## 1. Load and Preprocess the Data"
   ]
  },
  {
   "cell_type": "code",
   "execution_count": null,
   "id": "371b32ab-21a9-4d69-8e10-a55e3c4d5ca6",
   "metadata": {},
   "outputs": [],
   "source": [
    "import pandas as pd\n",
    "from sklearn.model_selection import train_test_split\n",
    "from sklearn.naive_bayes import MultinomialNB\n",
    "from sklearn.preprocessing import OneHotEncoder\n",
    "from sklearn.metrics import accuracy_score, classification_report"
   ]
  },
  {
   "cell_type": "markdown",
   "id": "8e95b69e-a4f7-4842-92e7-09cc2fabe0a9",
   "metadata": {},
   "source": [
    "## Load Data\n"
   ]
  },
  {
   "cell_type": "code",
   "execution_count": null,
   "id": "fc78a0a4-6a52-4c66-87d0-514ff1be1197",
   "metadata": {},
   "outputs": [],
   "source": [
    "# Load the dataset (replace with your file path)\n",
    "df = pd.read_excel(\"Ask A Manager Salary Survey 2021 (Responses).xlsx\", sheet_name=\"Form Responses 1\")"
   ]
  },
  {
   "cell_type": "markdown",
   "id": "a5499324-9c01-4f23-9485-76d54107189e",
   "metadata": {},
   "source": [
    "## Clean and Prepare Data"
   ]
  },
  {
   "cell_type": "code",
   "execution_count": null,
   "id": "e41d92e7-e6ff-4a1a-af42-9bf1917f90cd",
   "metadata": {},
   "outputs": [],
   "source": [
    "# Select relevant columns\n",
    "df = df[['industry', 'job title', 'annual salary', 'country', 'highest level of education completed', 'overall years of professional experience']]\n",
    "\n",
    "# Convert salary to categorical bins\n",
    "bins = [0, 50000, 100000, float('inf')]\n",
    "labels = ['low', 'medium', 'high']\n",
    "df['salary_category'] = pd.cut(df['annual salary'], bins=bins, labels=labels)\n",
    "\n",
    "# Drop rows with missing values\n",
    "df.dropna(inplace=True)\n",
    "\n",
    "# Simplify job titles (example grouping)\n",
    "df['job_title_grouped'] = df['job title'].str.replace(r'(I|II|III|Senior|Junior|Lead|Manager)', '', regex=True).str.strip()"
   ]
  },
  {
   "cell_type": "markdown",
   "id": "a29cc86d-b8bc-48ce-ad73-447d26850348",
   "metadata": {},
   "source": [
    "## 2. Feature Engineering"
   ]
  },
  {
   "cell_type": "code",
   "execution_count": null,
   "id": "1afd5bcb-abc5-472c-8146-2ea26155a260",
   "metadata": {},
   "outputs": [],
   "source": [
    "# Initialize OneHotEncoder\n",
    "encoder = OneHotEncoder(handle_unknown='ignore')\n",
    "\n",
    "# Encode features\n",
    "encoded_features = encoder.fit_transform(df[['industry', 'country', 'highest level of education completed', 'job_title_grouped']])\n",
    "feature_names = encoder.get_feature_names_out(['industry', 'country', 'education', 'job_title'])"
   ]
  },
  {
   "cell_type": "markdown",
   "id": "3b1cb06d-75b1-4037-9e86-9796b5909876",
   "metadata": {},
   "source": [
    "## 3. Split Data into Train/Test Sets"
   ]
  },
  {
   "cell_type": "code",
   "execution_count": null,
   "id": "67c3c8a3-daac-413b-9468-f75e8a21df58",
   "metadata": {},
   "outputs": [],
   "source": [
    "X = encoded_features\n",
    "y = df['salary_category']\n",
    "\n",
    "X_train, X_test, y_train, y_test = train_test_split(X, y, test_size=0.3, random_state=42)"
   ]
  },
  {
   "cell_type": "markdown",
   "id": "1f434161-b47f-40c2-8db2-7861061230bb",
   "metadata": {},
   "source": [
    "## 4. Train the Model"
   ]
  },
  {
   "cell_type": "code",
   "execution_count": null,
   "id": "b32c2f07-1501-4ccf-a0de-9a88b32fb636",
   "metadata": {},
   "outputs": [],
   "source": [
    "model = MultinomialNB(alpha=1.0)  # Laplace smoothing\n",
    "model.fit(X_train, y_train)"
   ]
  },
  {
   "cell_type": "markdown",
   "id": "cb8d0a51-3687-410a-8e7d-dbc5d01d9b18",
   "metadata": {},
   "source": [
    "## 5. Evaluate Performance"
   ]
  },
  {
   "cell_type": "code",
   "execution_count": null,
   "id": "56f84618-41b0-4208-b901-246d1f632e43",
   "metadata": {},
   "outputs": [],
   "source": [
    "y_pred = model.predict(X_test)\n",
    "\n",
    "print(\"Accuracy:\", accuracy_score(y_test, y_pred))\n",
    "print(\"\\nClassification Report:\\n\", classification_report(y_test, y_pred))"
   ]
  },
  {
   "cell_type": "code",
   "execution_count": null,
   "id": "a4032d36-8831-4c5c-bf39-2217b2d70126",
   "metadata": {},
   "outputs": [],
   "source": []
  }
 ],
 "metadata": {
  "kernelspec": {
   "display_name": "Python 3 (ipykernel)",
   "language": "python",
   "name": "python3"
  },
  "language_info": {
   "codemirror_mode": {
    "name": "ipython",
    "version": 3
   },
   "file_extension": ".py",
   "mimetype": "text/x-python",
   "name": "python",
   "nbconvert_exporter": "python",
   "pygments_lexer": "ipython3",
   "version": "3.10.4"
  }
 },
 "nbformat": 4,
 "nbformat_minor": 5
}
