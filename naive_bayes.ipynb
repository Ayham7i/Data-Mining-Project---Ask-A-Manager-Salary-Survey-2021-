{
 "cells": [
  {
   "cell_type": "markdown",
   "id": "f656241e-ee1a-4ed7-9fa3-d101c70cd8b3",
   "metadata": {},
   "source": [
    "## 1. Load and Preprocess the Data"
   ]
  },
  {
   "cell_type": "code",
   "execution_count": 1,
   "id": "371b32ab-21a9-4d69-8e10-a55e3c4d5ca6",
   "metadata": {},
   "outputs": [],
   "source": [
    "import pandas as pd\n",
    "from sklearn.model_selection import train_test_split\n",
    "from sklearn.naive_bayes import MultinomialNB\n",
    "from sklearn.preprocessing import OneHotEncoder\n",
    "from sklearn.metrics import accuracy_score, classification_report"
   ]
  },
  {
   "cell_type": "markdown",
   "id": "8e95b69e-a4f7-4842-92e7-09cc2fabe0a9",
   "metadata": {},
   "source": [
    "## Load Data\n"
   ]
  },
  {
   "cell_type": "code",
   "execution_count": null,
   "id": "fc78a0a4-6a52-4c66-87d0-514ff1be1197",
   "metadata": {},
   "outputs": [],
   "source": [
    "# Load the dataset (replace with your file path)\n",
    "df = pd.read_excel(\"Ask A Manager Salary Survey 2021 (Responses).xlsx\", sheet_name=\"Form Responses 1\")"
   ]
  },
  {
   "cell_type": "markdown",
   "id": "a5499324-9c01-4f23-9485-76d54107189e",
   "metadata": {},
   "source": [
    "## Clean and Prepare Data"
   ]
  },
  {
   "cell_type": "code",
   "execution_count": null,
   "id": "e41d92e7-e6ff-4a1a-af42-9bf1917f90cd",
   "metadata": {},
   "outputs": [],
   "source": [
    "# Select relevant columns\n",
    "df = df[['industry', 'job title', 'annual salary', 'country', 'highest level of education completed', 'overall years of professional experience']]\n",
    "\n",
    "# Convert salary to categorical bins\n",
    "bins = [0, 50000, 100000, float('inf')]\n",
    "labels = ['low', 'medium', 'high']\n",
    "df['salary_category'] = pd.cut(df['annual salary'], bins=bins, labels=labels)\n",
    "\n",
    "# Drop rows with missing values\n",
    "df.dropna(inplace=True)\n",
    "\n",
    "# Simplify job titles (example grouping)\n",
    "df['job_title_grouped'] = df['job title'].str.replace(r'(I|II|III|Senior|Junior|Lead|Manager)', '', regex=True).str.strip()"
   ]
  },
  {
   "cell_type": "markdown",
   "id": "a29cc86d-b8bc-48ce-ad73-447d26850348",
   "metadata": {},
   "source": [
    "## 2. Feature Engineering"
   ]
  },
  {
   "cell_type": "code",
   "execution_count": null,
   "id": "1afd5bcb-abc5-472c-8146-2ea26155a260",
   "metadata": {},
   "outputs": [],
   "source": [
    "# Initialize OneHotEncoder\n",
    "encoder = OneHotEncoder(handle_unknown='ignore')\n",
    "\n",
    "# Encode features\n",
    "encoded_features = encoder.fit_transform(df[['industry', 'country', 'highest level of education completed', 'job_title_grouped']])\n",
    "feature_names = encoder.get_feature_names_out(['industry', 'country', 'education', 'job_title'])"
   ]
  },
  {
   "cell_type": "markdown",
   "id": "3b1cb06d-75b1-4037-9e86-9796b5909876",
   "metadata": {},
   "source": [
    "## 3. Split Data into Train/Test Sets"
   ]
  },
  {
   "cell_type": "code",
   "execution_count": null,
   "id": "67c3c8a3-daac-413b-9468-f75e8a21df58",
   "metadata": {},
   "outputs": [],
   "source": [
    "X = encoded_features\n",
    "y = df['salary_category']\n",
    "\n",
    "X_train, X_test, y_train, y_test = train_test_split(X, y, test_size=0.3, random_state=42)"
   ]
  },
  {
   "cell_type": "markdown",
   "id": "1f434161-b47f-40c2-8db2-7861061230bb",
   "metadata": {},
   "source": [
    "## 4. Train the Model"
   ]
  },
  {
   "cell_type": "code",
   "execution_count": null,
   "id": "b32c2f07-1501-4ccf-a0de-9a88b32fb636",
   "metadata": {},
   "outputs": [],
   "source": [
    "model = MultinomialNB(alpha=1.0)  # Laplace smoothing\n",
    "model.fit(X_train, y_train)"
   ]
  },
  {
   "cell_type": "markdown",
   "id": "cb8d0a51-3687-410a-8e7d-dbc5d01d9b18",
   "metadata": {},
   "source": [
    "## 5. Evaluate Performance"
   ]
  },
  {
   "cell_type": "code",
   "execution_count": null,
   "id": "56f84618-41b0-4208-b901-246d1f632e43",
   "metadata": {},
   "outputs": [],
   "source": [
    "y_pred = model.predict(X_test)\n",
    "\n",
    "print(\"Accuracy:\", accuracy_score(y_test, y_pred))\n",
    "print(\"\\nClassification Report:\\n\", classification_report(y_test, y_pred))"
   ]
  },
  {
   "cell_type": "markdown",
   "id": "f7bbdb48-a00b-404f-b98d-be23efcdebb3",
   "metadata": {},
   "source": [
    "## 6. Visualize the Results"
   ]
  },
  {
   "cell_type": "markdown",
   "id": "a45ffd39-8078-4022-bc99-149f5886fa93",
   "metadata": {},
   "source": [
    "### Import Visualization Libraries\n"
   ]
  },
  {
   "cell_type": "code",
   "execution_count": null,
   "id": "68b58900-90f0-4dba-9870-89926d895def",
   "metadata": {},
   "outputs": [],
   "source": [
    "import matplotlib.pyplot as plt\n",
    "import seaborn as sns\n",
    "from sklearn.metrics import confusion_matrix"
   ]
  },
  {
   "cell_type": "markdown",
   "id": "b0384037-4c4e-4918-a7f3-2f9150c29a33",
   "metadata": {},
   "source": [
    "### Salary Category Distribution"
   ]
  },
  {
   "cell_type": "code",
   "execution_count": null,
   "id": "0dea0ab0-a3ad-4149-9e65-85b64c785efd",
   "metadata": {},
   "outputs": [],
   "source": [
    "# Plot class distribution\n",
    "plt.figure(figsize=(8, 4))\n",
    "sns.countplot(data=df, x='salary_category', palette='viridis')\n",
    "plt.title(\"Salary Category Distribution\")\n",
    "plt.xlabel(\"Salary Category\")\n",
    "plt.ylabel(\"Count\")\n",
    "plt.show()"
   ]
  },
  {
   "cell_type": "markdown",
   "id": "6654611c-9ec7-498f-a2bf-70b1dccae286",
   "metadata": {},
   "source": [
    "### Confusion Matrix Heatmap"
   ]
  },
  {
   "cell_type": "code",
   "execution_count": null,
   "id": "009dad70-2395-4cfa-9c0c-260a80b48cb4",
   "metadata": {},
   "outputs": [],
   "source": [
    "# Generate confusion matrix\n",
    "cm = confusion_matrix(y_test, y_pred)\n",
    "labels = ['high', 'low', 'medium']\n",
    "\n",
    "# Plot heatmap\n",
    "plt.figure(figsize=(8, 6))\n",
    "sns.heatmap(cm, annot=True, fmt='d', cmap='Blues', xticklabels=labels, yticklabels=labels)\n",
    "plt.title(\"Confusion Matrix\")\n",
    "plt.xlabel(\"Predicted\")\n",
    "plt.ylabel(\"Actual\")\n",
    "plt.show()"
   ]
  },
  {
   "cell_type": "markdown",
   "id": "ed121a24-da2b-4b83-874c-acacde7bd48b",
   "metadata": {},
   "source": [
    "## 2. Test the Model with Sample Predictions"
   ]
  },
  {
   "cell_type": "markdown",
   "id": "e1d79653-c585-4f1a-bc4b-ebbdc502a26b",
   "metadata": {},
   "source": [
    "### Create Test Cases\n"
   ]
  },
  {
   "cell_type": "code",
   "execution_count": null,
   "id": "151fd689-80af-4067-a246-f3f9cdfdbee0",
   "metadata": {},
   "outputs": [],
   "source": [
    "# Sample test cases (replace with your own examples)\n",
    "test_cases = pd.DataFrame({\n",
    "    'industry': ['computing or tech', 'nonprofits', 'engineering or manufacturing'],\n",
    "    'country': ['usa', 'canada', 'uk'],\n",
    "    'highest level of education completed': ['master\\'s degree', 'college degree', 'phd'],\n",
    "    'job_title_grouped': ['software engineer', 'program manager', 'research engineer']\n",
    "})"
   ]
  },
  {
   "cell_type": "markdown",
   "id": "c9329398-82b7-4a61-a793-75d6ba119905",
   "metadata": {},
   "source": [
    "### Encode Test Cases"
   ]
  },
  {
   "cell_type": "code",
   "execution_count": null,
   "id": "b6c53110-56cb-4d6e-83da-7ae704cf144a",
   "metadata": {},
   "outputs": [],
   "source": [
    "# Use the same encoder from training\n",
    "encoded_test = encoder.transform(test_cases)"
   ]
  },
  {
   "cell_type": "markdown",
   "id": "f1158577-518a-4b07-a93a-3a0a96f0f799",
   "metadata": {},
   "source": [
    "### Predict Salary Categories"
   ]
  },
  {
   "cell_type": "code",
   "execution_count": null,
   "id": "e6834e9b-23d0-48ab-9c0c-721b29062137",
   "metadata": {},
   "outputs": [],
   "source": [
    "# Predict\n",
    "predictions = model.predict(encoded_test)\n",
    "test_cases['predicted_salary'] = predictions\n",
    "\n",
    "# Display results\n",
    "print(test_cases)"
   ]
  },
  {
   "cell_type": "markdown",
   "id": "e3a0c3d9-653d-48bd-b569-5c315d2701c2",
   "metadata": {},
   "source": [
    "## 3. Feature Importance Analysis\n"
   ]
  },
  {
   "cell_type": "markdown",
   "id": "3660ab13-ef99-4780-bc3c-5b8152b4df57",
   "metadata": {},
   "source": [
    "### Plot Top Influential Features"
   ]
  },
  {
   "cell_type": "code",
   "execution_count": null,
   "id": "8cf11cdc-68d0-44f9-87c5-aa17bdc73451",
   "metadata": {},
   "outputs": [],
   "source": [
    "# Extract feature names and log probabilities\n",
    "feature_log_probs = model.feature_log_prob_\n",
    "feature_names = encoder.get_feature_names_out(['industry', 'country', 'education', 'job_title'])\n",
    "\n",
    "# Create a DataFrame for visualization\n",
    "importance_df = pd.DataFrame({\n",
    "    'feature': feature_names,\n",
    "    'high_salary_prob': feature_log_probs[2],  # High salary class\n",
    "    'medium_salary_prob': feature_log_probs[1], # Medium salary class\n",
    "    'low_salary_prob': feature_log_probs[0]     # Low salary class\n",
    "})\n",
    "\n",
    "# Top 10 features for \"high\" salary\n",
    "top_high = importance_df.nlargest(10, 'high_salary_prob')\n",
    "\n",
    "# Plot\n",
    "plt.figure(figsize=(10, 6))\n",
    "sns.barplot(data=top_high, x='high_salary_prob', y='feature', palette='rocket')\n",
    "plt.title(\"Top Features Predicting High Salary\")\n",
    "plt.xlabel(\"Log Probability (High Salary)\")\n",
    "plt.ylabel(\"Feature\")\n",
    "plt.show()"
   ]
  }
 ],
 "metadata": {
  "kernelspec": {
   "display_name": "Python 3 (ipykernel)",
   "language": "python",
   "name": "python3"
  },
  "language_info": {
   "codemirror_mode": {
    "name": "ipython",
    "version": 3
   },
   "file_extension": ".py",
   "mimetype": "text/x-python",
   "name": "python",
   "nbconvert_exporter": "python",
   "pygments_lexer": "ipython3",
   "version": "3.10.4"
  }
 },
 "nbformat": 4,
 "nbformat_minor": 5
}
